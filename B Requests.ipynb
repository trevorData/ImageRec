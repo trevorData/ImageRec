{
 "cells": [
  {
   "cell_type": "code",
   "execution_count": 337,
   "metadata": {},
   "outputs": [],
   "source": [
    "import requests"
   ]
  },
  {
   "cell_type": "code",
   "execution_count": 338,
   "metadata": {},
   "outputs": [],
   "source": [
    "import numpy as np"
   ]
  },
  {
   "cell_type": "code",
   "execution_count": 339,
   "metadata": {},
   "outputs": [],
   "source": [
    "import cv2"
   ]
  },
  {
   "cell_type": "code",
   "execution_count": 340,
   "metadata": {},
   "outputs": [],
   "source": [
    "import os"
   ]
  },
  {
   "cell_type": "code",
   "execution_count": 341,
   "metadata": {},
   "outputs": [],
   "source": [
    "from PIL import Image"
   ]
  },
  {
   "cell_type": "code",
   "execution_count": 342,
   "metadata": {},
   "outputs": [],
   "source": [
    "import matplotlib.pyplot as plt"
   ]
  },
  {
   "cell_type": "code",
   "execution_count": null,
   "metadata": {},
   "outputs": [],
   "source": [
    "os.chdir('Documents/Projects/ImageRec')"
   ]
  },
  {
   "cell_type": "code",
   "execution_count": 346,
   "metadata": {},
   "outputs": [],
   "source": [
    "def img_save(query_term, offset):\n",
    "    '''\n",
    "    saves and processes up to 900 images for specified query\n",
    "    requires a folder to be made in the working directory\n",
    "    '''\n",
    "    \n",
    "    API_KEY = os.getenv('bing_search_api_key')\n",
    "    URL = \"https://api.cognitive.microsoft.com/bing/v7.0/images/search\"\n",
    "    \n",
    "    # set path with query term as file name\n",
    "    path = os.getcwd().replace('\\\\', '/') + '/' + str(query_term) + '/'\n",
    "        \n",
    "    headers = {\"Ocp-Apim-Subscription-Key\" : API_KEY}\n",
    "    params = {\"q\": query_term,\n",
    "              \"count\": 150, \n",
    "              \"offset\": offset}\n",
    "\n",
    "    # Search Bing for images\n",
    "    search = requests.get(URL, headers=headers, params=params)\n",
    "    results = search.json()\n",
    "\n",
    "    # Save all of the resulting images from each page\n",
    "    num = 0\n",
    "    for value in results['value']:\n",
    "\n",
    "        image = requests.get(value[\"contentUrl\"], timeout=30)\n",
    "\n",
    "        file = open(path + query_term + '_' + str(offset) + '_' + str(num) + '.png', 'wb')\n",
    "        file.write(image.content)\n",
    "        file.close()\n",
    "\n",
    "        num += 1"
   ]
  },
  {
   "cell_type": "code",
   "execution_count": 347,
   "metadata": {},
   "outputs": [],
   "source": [
    "def img_format(folder):\n",
    "    '''\n",
    "    read in all images in given folder, format them and save them to a different folder\n",
    "    requires a second folder\n",
    "    '''\n",
    "    \n",
    "    # iterate through each file in the specified folder\n",
    "    for file in os.listdir(folder):\n",
    "        \n",
    "        # Read in the image\n",
    "        # CV2 uses BGR so we need to switch to RGB\n",
    "        #img = cv2.cvtColor(cv2.imread(folder + '/' + file), cv2.COLOR_BGR2RGB)\n",
    "        img = np.array(Image.open(folder + '/' + file))\n",
    "        \n",
    "        # Identify which sides need to be padded and by how much, to make the image square\n",
    "        short = np.argmin(img.shape[:2])\n",
    "        diff_1 = int(np.ceil(abs(img.shape[1] - img.shape[0])/2))\n",
    "        diff_2 = int(np.floor(abs(img.shape[1] - img.shape[0])/2))\n",
    "        \n",
    "        # Set the desired padding on the short side, and apply\n",
    "        width = [[0, 0], [0, 0], [0, 0]]\n",
    "        width[short] = [diff_1, diff_2]\n",
    "        \n",
    "        img = np.pad(img, pad_width=width)\n",
    "        \n",
    "        # Resize square image to 100x100\n",
    "        img = cv2.resize(img, (100, 100))\n",
    "        \n",
    "        # TODO: We may not need this\n",
    "        # Save image to second folder\n",
    "        #cv2.imwrite(folder + '_formatted/' + file, img)\n",
    "        Image.fromarray(img).save(folder + '_formatted/' + file)"
   ]
  }
 ],
 "metadata": {
  "kernelspec": {
   "display_name": "Python 3",
   "language": "python",
   "name": "python3"
  },
  "language_info": {
   "codemirror_mode": {
    "name": "ipython",
    "version": 3
   },
   "file_extension": ".py",
   "mimetype": "text/x-python",
   "name": "python",
   "nbconvert_exporter": "python",
   "pygments_lexer": "ipython3",
   "version": "3.6.6"
  }
 },
 "nbformat": 4,
 "nbformat_minor": 2
}
