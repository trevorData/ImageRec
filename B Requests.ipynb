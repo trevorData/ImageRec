{
 "cells": [
  {
   "cell_type": "code",
   "execution_count": 1,
   "metadata": {},
   "outputs": [],
   "source": [
    "import numpy as np"
   ]
  },
  {
   "cell_type": "code",
   "execution_count": 2,
   "metadata": {},
   "outputs": [],
   "source": [
    "import requests\n",
    "import os"
   ]
  },
  {
   "cell_type": "code",
   "execution_count": 3,
   "metadata": {},
   "outputs": [],
   "source": [
    "import cv2\n",
    "from PIL import Image"
   ]
  },
  {
   "cell_type": "code",
   "execution_count": 4,
   "metadata": {},
   "outputs": [],
   "source": [
    "os.chdir('Documents/Projects/ImageRec')"
   ]
  },
  {
   "cell_type": "code",
   "execution_count": 5,
   "metadata": {},
   "outputs": [],
   "source": [
    "import matplotlib.pyplot as plt"
   ]
  },
  {
   "cell_type": "code",
   "execution_count": 6,
   "metadata": {},
   "outputs": [],
   "source": [
    "def img_save(query_term, offset):\n",
    "    '''\n",
    "    saves and processes images for specified query, creates folder in directory if there isnt one\n",
    "    '''\n",
    "    \n",
    "    API_KEY = os.getenv('bing_search_api_key')\n",
    "    URL = \"https://api.cognitive.microsoft.com/bing/v5.0/images/search\"\n",
    "    USER_AGENT = 'Mozilla/5.0 (Windows NT 10.0; Win64; x64) AppleWebKit/537.36 (KHTML, like Gecko)' + \\\n",
    "                 'Chrome/80.0.3987.87 Safari/537.36'\n",
    "    \n",
    "    # set path with query term as file name\n",
    "    path = os.getcwd().replace('\\\\', '/') + '/' + str(query_term) + '/'\n",
    "    \n",
    "    if not os.path.exists(query_term):\n",
    "        # if the directory does not exist, make one\n",
    "        os.mkdir(query_term)\n",
    "        \n",
    "    headers = {\"Ocp-Apim-Subscription-Key\" : API_KEY}\n",
    "    params = {\"q\": query_term,\n",
    "              \"count\": 150, \n",
    "              \"offset\": offset * 150}\n",
    "\n",
    "    # Search Bing for images\n",
    "    search = requests.get(URL, headers=headers, params=params)\n",
    "    results = search.json()\n",
    "    \n",
    "    print('TOTAL ESTIMATED MATCHES: ' + str(results['totalEstimatedMatches']))\n",
    "\n",
    "    # Save all of the resulting images from each page\n",
    "    num = offset * 150\n",
    "    for value in results['value']:\n",
    "\n",
    "        print(str(num) + ' ' + value['contentUrl'])\n",
    "        \n",
    "        try:\n",
    "            image = requests.get(value[\"contentUrl\"], timeout=30, headers={'User-Agent': USER_AGENT})\n",
    "            \n",
    "        except(requests.ConnectionError):\n",
    "            print(str(num) + ' BAD CONNECTION')\n",
    "        \n",
    "        # Check the status of the request - If the image does not exist we will skip it\n",
    "        try:\n",
    "            image.raise_for_status()\n",
    "            \n",
    "            file = open(path + query_term + '_' + str(offset) + '_' + str(num) + '.png', 'wb')\n",
    "            file.write(image.content)\n",
    "            file.close()\n",
    "            \n",
    "        except(requests.HTTPError):\n",
    "            print(str(num) + ' NOT FOUND')\n",
    "            \n",
    "        num += 1"
   ]
  },
  {
   "cell_type": "code",
   "execution_count": 7,
   "metadata": {},
   "outputs": [],
   "source": [
    "def img_format(folder):\n",
    "    '''\n",
    "    read in all images in given folder, format them, and put them into a master array\n",
    "    '''\n",
    "    \n",
    "    x_data = np.array([])\n",
    "    Y_data = np.array([])\n",
    "    \n",
    "    # Iterate through each file in the specified folder\n",
    "    for file in os.listdir(folder):\n",
    "        \n",
    "        # Read in the image\n",
    "        img = np.array(Image.open(folder + '/' + file))\n",
    "        \n",
    "        # If the image is greyscale, discard it\n",
    "        if len(img.shape) == 2:\n",
    "            continue\n",
    "        \n",
    "        # If the image is 4 channel (RGBA), convert to 3 channel (RGB)\n",
    "        if (len(img.shape) > 2) & (img.shape[2] == 4):\n",
    "            img = cv2.cvtColor(img, cv2.COLOR_RGBA2RGB)\n",
    "        \n",
    "        # Identify which sides need to be padded and by how much, to make the image square\n",
    "        short = np.argmin(img.shape[:2])\n",
    "        diff_1 = int(np.ceil(abs(img.shape[1] - img.shape[0])/2))\n",
    "        diff_2 = int(np.floor(abs(img.shape[1] - img.shape[0])/2))\n",
    "        \n",
    "        # Set the desired padding on the short side, and apply\n",
    "        width = [[0, 0], [0, 0], [0, 0]]\n",
    "        width[short] = [diff_1, diff_2]\n",
    "        img = np.pad(img, pad_width=width)\n",
    "        \n",
    "        # Resize square image to 100x100\n",
    "        img = cv2.resize(img, (100, 100))\n",
    "        \n",
    "        # Reshape array to be appended to x_data array\n",
    "        img = img.reshape(1, 100, 100, 3)\n",
    "        \n",
    "        # Put the formatted arrays into a master array of training data\n",
    "        if np.array_equal(x_data, np.array([])):\n",
    "            # This is the first one, start the array\n",
    "            x_data = img\n",
    "            \n",
    "        else:\n",
    "            # Append to full array\n",
    "            x_data = np.concatenate((x_data, img), axis=0)\n",
    "        \n",
    "        # The class label will be same as the name of the folder\n",
    "        Y_data = np.append(Y_data, folder)\n",
    "        \n",
    "        # fix type\n",
    "        #x_data = x_data.astype(np.int32)\n",
    "    \n",
    "    return x_data, Y_data"
   ]
  },
  {
   "cell_type": "markdown",
   "metadata": {},
   "source": [
    "Save the images from search queries"
   ]
  },
  {
   "cell_type": "code",
   "execution_count": 357,
   "metadata": {},
   "outputs": [
    {
     "name": "stdout",
     "output_type": "stream",
     "text": [
      "TOTAL ESTIMATED MATCHES: 489\n",
      "150 https://www.urdogs.com/wp-content/uploads/2016/06/Husky.jpg\n",
      "151 http://68.media.tumblr.com/6233ff327f7fefe564f2eaddc76060fe/tumblr_omprbsaWwm1s4yg05o1_1280.jpg\n",
      "152 https://vcahospitals.com/-/media/vca/images/lifelearn-images/dog-behavior-normal.ashx?la=en&hash=F8B875D7EDFBC5B31AA81A47B34A9100\n",
      "153 https://i.ytimg.com/vi/2Sxu-cqflsI/maxresdefault.jpg\n",
      "154 http://diamondwaterscaravanpark.com.au/wp-content/uploads/2016/07/pet-friendly-accommodation-mid-north-coast.jpg\n",
      "155 http://thebark.com/sites/default/files/styles/full/public/content/blog/full/81c39033-68b8-4096-8f29-a73ef7df2ac5.jpg?itok=jrtNNT6o\n",
      "156 http://www.publicdomainpictures.net/pictures/40000/nahled/golden-retriever-dog-1362597915Did.jpg\n",
      "157 http://2.bp.blogspot.com/-U1ftQjlMcdg/UO2gSGvxp8I/AAAAAAAABEE/Gf2SQE2JYwE/s640/Akbash+dog+6.jpg\n",
      "158 https://upload.wikimedia.org/wikipedia/commons/thumb/c/c6/Jumping_dog.JPG/220px-Jumping_dog.JPG\n",
      "159 https://upload.wikimedia.org/wikipedia/commons/6/68/Rob_Roy_%28dog%29.jpg\n",
      "160 https://upload.wikimedia.org/wikipedia/commons/thumb/b/b2/Black_and_white_dog_on_snow.jpg/183px-Black_and_white_dog_on_snow.jpg\n",
      "161 http://i.telegraph.co.uk/multimedia/archive/01377/dog_1377176a.jpg\n",
      "162 https://i.ytimg.com/vi/PoIYw0426uM/hqdefault.jpg\n",
      "163 http://static.dnaindia.com/sites/default/files/2016/06/16/472427-stray-dog1.jpg\n",
      "164 https://1.bp.blogspot.com/_FMMNs89rdP8/SNzYyYH9w0I/AAAAAAAAAMk/E6Cidtu_GDA/s400/LUNDEHUND+a1.jpg\n",
      "165 https://i.ytimg.com/vi/vD1xgR3Jvwo/hqdefault.jpg\n",
      "166 http://cdn.litlepups.net/2016/03/07/free-dogs-images-download-free-pics-of-dogs-to-download.jpg\n",
      "167 http://i.ytimg.com/vi/drttJ5qURdE/hqdefault.jpg\n",
      "168 https://shootingmystery.com/wp-content/uploads/2017/01/cho-gam-xuong-tapchichomeo.com_.jpg\n",
      "168 BAD CONNECTION\n",
      "169 http://tailandfur.com/wp-content/uploads/2016/03/40-Big-Dog-Puppy-Pictures-11.jpg\n",
      "170 https://i.ytimg.com/vi/GNeoIN3coxY/maxresdefault.jpg\n",
      "171 https://2.bp.blogspot.com/-MP0Z9GElwiY/T-CKx0_eJJI/AAAAAAAAA48/s3d7rHRVsic/s640/Sheep+Dog.jpg\n",
      "172 http://images4.fanpop.com/image/photos/21100000/Sweet-puppies-dogs-21180246-500-332.jpg\n",
      "173 http://img0.etsystatic.com/005/1/6178122/il_570xN.400686642_gc20.jpg\n",
      "174 http://i.ytimg.com/vi/uBK9DOGE3DU/maxresdefault.jpg\n",
      "175 https://pbs.twimg.com/media/CDh1q2ZWgAAQXkH.jpg\n",
      "176 https://i.ytimg.com/vi/jFfIzGyNTcw/maxresdefault.jpg\n",
      "177 https://i.ytimg.com/vi/rRwpSuwpc_Y/hqdefault.jpg\n",
      "178 https://rspca.org.au/sites/default/files/blog-image/andrew-pons-9713-unsplash.jpg\n",
      "179 https://i.ytimg.com/vi/wMiOoPZrYdw/maxresdefault.jpg\n",
      "180 https://i.ytimg.com/vi/tDWbbzlsOyw/hqdefault.jpg\n",
      "181 http://i.ytimg.com/vi/Me8sqOJh11E/maxresdefault.jpg\n",
      "182 https://upload.wikimedia.org/wikipedia/commons/thumb/7/72/Dog_in_Kathmandu_after_Kukur_Puja.jpg/220px-Dog_in_Kathmandu_after_Kukur_Puja.jpg\n",
      "183 https://i.ytimg.com/vi/8eFUPscP3hk/hqdefault.jpg\n",
      "184 http://i.ytimg.com/vi/QP1H6UsTD9Y/hqdefault.jpg\n",
      "185 https://www.bestfriendspets.com.au/sites/default/files/styles/pet_image/public/shutterstock_156507533.jpg?itok=dmeua2fq\n",
      "186 http://farm1.staticflickr.com/103/299723824_1f94991a89.jpg\n",
      "187 http://i.ytimg.com/vi/bKpCTDRNKao/maxresdefault.jpg\n",
      "188 https://upload.wikimedia.org/wikipedia/commons/thumb/a/a5/Black_8_Year_Taiwan_Dog.jpg/220px-Black_8_Year_Taiwan_Dog.jpg\n",
      "189 https://upload.wikimedia.org/wikipedia/commons/thumb/9/9c/Podenco_Canario_2.jpg/260px-Podenco_Canario_2.jpg\n",
      "190 http://4.bp.blogspot.com/-u9wKUwoykKg/VVlpZfCQY_I/AAAAAAAAETg/ciBCZtjLZOQ/s1600/DSC_0857-Edit.jpg\n",
      "191 http://images.boredomfiles.com/wp-content/uploads/2014/05/dog-coat-markings-19.jpg\n",
      "192 https://www.omlet.co.uk/images/cache/200/300/Dog-Puli-A_close_up_of_a_Puli's_incredible_dreadlock_coat.jpg\n",
      "193 https://i.ytimg.com/vi/tfCRlElk1nc/maxresdefault.jpg\n",
      "194 https://upload.wikimedia.org/wikipedia/commons/thumb/7/73/Declassified_image_of_the_dog_who_chased_al-Baghdadi.jpg/220px-Declassified_image_of_the_dog_who_chased_al-Baghdadi.jpg\n",
      "194 NOT FOUND\n",
      "195 https://www.rocketdogrescue.org/wp-content/uploads/2015/12/CHAPO-3.jpg\n",
      "196 http://i.ytimg.com/vi/Ze5IvvpdbZk/maxresdefault.jpg\n",
      "197 https://i.ytimg.com/vi/aUPvzrm2UEI/maxresdefault.jpg\n",
      "198 https://i.ytimg.com/vi/KgZZWa45DmQ/hqdefault.jpg\n",
      "199 https://i.ytimg.com/vi/Q8Q4IbM4y2k/hqdefault.jpg\n",
      "200 https://wholesaleoilpaintingsonline.files.wordpress.com/2014/04/dog-oil-paintings-for-sale.jpg?w=499&h=378\n",
      "201 https://i.ytimg.com/vi/GZ5d2byHUxQ/hqdefault.jpg\n",
      "202 https://pbs.twimg.com/profile_images/227983946/DSCF0897.jpg\n",
      "203 https://knutsfordvetsurgery.co.uk/wp-content/uploads/2016/03/lazy-dog-days-1524039-1280x960.jpg\n",
      "204 http://i1.ytimg.com/vi/IF7i8Ci9K10/hqdefault.jpg\n",
      "205 https://www.ducksters.com/animals/dachshund_vert.jpg\n",
      "206 https://i.ytimg.com/vi/YjwIJyrZFlA/hqdefault.jpg\n",
      "207 https://i.ytimg.com/vi/gUMcPBs87dM/hqdefault.jpg\n",
      "208 https://i.ytimg.com/vi/FZy0flu6u74/hqdefault.jpg\n",
      "209 https://images.pexels.com/photos/59523/pexels-photo-59523.jpeg?cs=srgb&dl=animal-cute-animals-dog-59523.jpg&fm=jpg\n",
      "210 http://i.ytimg.com/vi/451o2IyGJlQ/hqdefault.jpg\n",
      "211 https://i.ytimg.com/vi/ki-6QwhI_ac/maxresdefault.jpg\n",
      "212 https://i.ytimg.com/vi/qB0mMRXPOl8/maxresdefault.jpg\n",
      "213 http://i.ytimg.com/vi/DcWS2Sl1MpI/maxresdefault.jpg\n",
      "214 https://www.dogtrophy.com/wp-content/uploads/2018/03/akitainu-1.jpg\n",
      "215 https://i.ytimg.com/vi/4gFosrUwMZc/hqdefault.jpg\n",
      "216 https://i.ytimg.com/vi/BN_zcKAolL8/maxresdefault.jpg\n",
      "217 https://vignette2.wikia.nocookie.net/goosebumps/images/3/30/Frankensteinsdog-fullart.jpg/revision/latest/scale-to-width-down/350?cb=20160728120807\n",
      "218 http://i.ytimg.com/vi/ECo303nP0LY/hqdefault.jpg\n",
      "219 https://i.ytimg.com/vi/x7NVv1IePg0/maxresdefault.jpg\n",
      "220 https://i.ytimg.com/vi/tDx_0kmOAn8/hqdefault.jpg\n",
      "221 https://i.ytimg.com/vi/FjbIbkw_DrY/maxresdefault.jpg\n",
      "222 https://3.bp.blogspot.com/-45ezs2clsj4/TVp0xJVO-5I/AAAAAAAAJnU/RLh0moGNdfo/s400/dog-fails-23.jpg\n",
      "223 https://i.ytimg.com/vi/o3w_JMQ4BPs/hqdefault.jpg\n",
      "224 http://i.ytimg.com/vi/tX0PRyDiASo/hqdefault.jpg\n",
      "225 https://i.ytimg.com/vi/Cn_JQJtTP2Y/hqdefault.jpg\n",
      "226 https://cdn.instructables.com/F6G/K8GZ/IBKML6A9/F6GK8GZIBKML6A9.RECT2100.jpg\n",
      "227 https://1.bp.blogspot.com/-xdIyBBIskIw/UFZBXrkskaI/AAAAAAAAAek/bXDMfnTJfIk/s1600/photo%282%29.JPG\n",
      "228 https://i.ytimg.com/vi/Qy5KOWr27y0/hqdefault.jpg\n",
      "229 https://www.publicdomainpictures.net/pictures/40000/velka/dog-sitting-pretty.jpg\n",
      "230 http://1.bp.blogspot.com/-e5UxyTIPOYY/TpgIoKBfkjI/AAAAAAAAArQ/jo-sInxrAVs/w1200-h630-p-k-no-nu/33108-dog-flowers.JPG\n",
      "231 https://i.ytimg.com/vi/jaM0sgoi0vw/maxresdefault.jpg\n",
      "232 https://i.ytimg.com/vi/_k8L7ckNTx8/hqdefault.jpg\n",
      "233 https://i.ytimg.com/vi/G3O_hCO_dkc/maxresdefault.jpg\n",
      "234 http://a.abcnews.go.com/images/GMA/160113_abc_smiling_dog_16x9_992.jpg\n",
      "235 http://3.bp.blogspot.com/_SqhhJb_P3Kk/TQvfwfs5KyI/AAAAAAAANIo/pUrPNnBDtS0/s1600/Doug+the+dog.jpg\n",
      "236 https://i.ytimg.com/vi/i9TnGt2e3jc/maxresdefault.jpg\n",
      "237 https://www.katrinawilsonphotography.co.uk/wp-content/uploads/2015/01/Katrina-Wilson-Dog-Photographer-Golden-Retriever_.jpg\n",
      "238 https://i.ytimg.com/vi/AsAo6Huq9CY/maxresdefault.jpg\n",
      "239 https://pbs.twimg.com/media/Bw09OuZCAAAKSDQ.jpg:large\n",
      "240 https://i.ytimg.com/vi/w22CPUF0tqw/hqdefault.jpg\n",
      "241 http://i.huffpost.com/gen/1963260/images/o-DOG-facebook.jpg\n",
      "242 https://i.ytimg.com/vi/x3j3wYkBR0M/maxresdefault.jpg\n",
      "243 https://s3.amazonaws.com/cdn-origin-etr.akc.org/wp-content/uploads/2017/11/12191549/Yakuitian-Laika-MP.jpg\n",
      "244 https://i.ytimg.com/vi/smqC2mv2HcI/maxresdefault.jpg\n",
      "245 https://makeafriendforlife.files.wordpress.com/2011/04/walk-fat-dog.jpg\n",
      "246 https://i.ytimg.com/vi/kySABOnKY40/hqdefault.jpg\n",
      "247 http://i.ytimg.com/vi/ZHBOgJT_tNI/hqdefault.jpg\n",
      "248 https://i.ytimg.com/vi/Rsv9R2bd0yw/hqdefault.jpg\n",
      "249 https://i.ytimg.com/vi/CATbp_D_xnM/maxresdefault.jpg\n",
      "250 https://www.rover.com/blog/wp-content/uploads/2015/06/scared-dog-960x540.jpg\n",
      "251 http://s3.amazonaws.com/assets.prod.vetstreet.com/ef/5de8d0a75611e0a0d50050568d634f/file/Greater-Swiss-Mtn-4-645mk062411.jpg\n",
      "252 https://i.ytimg.com/vi/7cXDPqPwvdI/hqdefault.jpg\n",
      "253 https://m.media-amazon.com/images/M/MV5BMTQ0Njc1MTA4MF5BMl5BanBnXkFtZTYwMDU5MjY2._V1_UY317_CR130,0,214,317_AL_.jpg\n",
      "254 https://i.ytimg.com/vi/t1dxFNAyPoU/maxresdefault.jpg\n",
      "255 https://upload.wikimedia.org/wikipedia/commons/thumb/3/38/Korea-Jeonju-Sapsal_dog_in_front_of_a_Hanok_Village-01.jpg/1200px-Korea-Jeonju-Sapsal_dog_in_front_of_a_Hanok_Village-01.jpg\n"
     ]
    },
    {
     "name": "stdout",
     "output_type": "stream",
     "text": [
      "256 http://www.dogvills.com/wp-content/uploads/2016/08/Best-Hypoallergenic-Dog-Food-for-Goldens-f.jpg\n",
      "257 https://specializedpetservices.com/wp-content/gallery/photos/IMG_3083.jpg\n",
      "258 https://upload.wikimedia.org/wikipedia/commons/2/2d/Pdog.jpg\n",
      "259 http://www.dog-learn.com/dog-breeds/polish-tatra-sheepdog/images/polish-tatra-sheepdog-u5.jpg\n",
      "260 http://www.petpaw.com.au/wp-content/uploads/2014/09/Smart-Looking-Basque-Shepherd-Dog-1030x1030.jpg\n",
      "261 https://s-i.huffpost.com/gen/1115786/images/o-RUNNING-OF-THE-CHIHUAHUAS-facebook.jpg\n",
      "262 http://4.bp.blogspot.com/-JtelMGttqgs/UIPOdjwaKdI/AAAAAAAAABE/ncCgaU49H9U/w1200-h630-p-k-no-nu/rottweiler_id73.jpg\n",
      "263 https://s-i.huffpost.com/gen/2487988/images/o-DOG-GOES-TO-BARBER-facebook.jpg\n",
      "264 https://pbs.twimg.com/profile_images/687509830/4345733231_2b8f1ede14_o.jpg\n",
      "265 https://upload.wikimedia.org/wikipedia/en/9/9f/Flying_Dog_cover.jpg\n",
      "266 http://2.bp.blogspot.com/-QHLT6NhwUZM/UHR-YXa3ohI/AAAAAAAABMA/NkSuJa45I7A/s1600/So+Cute+and+Funny+Bulldogs+(4).jpg\n",
      "267 https://upload.wikimedia.org/wikipedia/commons/3/36/Bengie.jpg\n",
      "268 https://i.pinimg.com/736x/f3/55/05/f35505f33053db817878893cbe7747c9--animals-dog-american-pit.jpg\n",
      "269 http://2.bp.blogspot.com/-YfWt7iu29Po/UepQf0RmxUI/AAAAAAAAOVM/BljzzD7n5NI/s1600/bsd1.jpg\n",
      "270 https://guidedogstas.com.au/wp-content/uploads/2014/08/lydia-torrey-AovflqCt9Ws-unsplash-1140x330.jpg\n",
      "271 https://www.maxpixel.net/static/photo/640/Pose-Podenko-Animal-Photo-Dog-Greyhound-Portrait-2075005.jpg\n",
      "272 http://images2.fanpop.com/image/photos/14000000/So-Sweet-dogs-14060955-800-600.jpg\n",
      "273 http://1.bp.blogspot.com/-r50WwaJsc3g/T6v-3tY9I8I/AAAAAAAAKKU/e31G6iBI8bI/w1200-h630-p-k-no-nu/funny-underwater-dog-pictures-001.jpeg\n",
      "274 https://face4pets.files.wordpress.com/2015/07/scared-dog.jpg\n",
      "275 http://www.katrinawilsonphotography.co.uk/wp-content/uploads/2015/01/Katrina-Wilson-Dog-Photographer-Bedfordshire-UK-12.jpg\n",
      "276 http://2.bp.blogspot.com/_eMOWB1r2MHY/SKoRYK29yhI/AAAAAAAAAAM/gyLS9qOcuBg/s200/schizer+005.jpg\n",
      "277 http://cdn2-www.dogtime.com/assets/uploads/2011/07/file_24288_course-mean-misbehaved-misbehave-dog-husky-crude-snarl-angry-defensive-territorial.jpg\n",
      "278 http://abcnews.go.com/images/Lifestyle/RT-dog-show-01-as-170215.jpg\n",
      "279 https://pbs.twimg.com/profile_images/2256298463/55966812_1_400x400.jpg\n",
      "280 http://2.bp.blogspot.com/-rAO3B4JvZhI/Tm7UikP_5WI/AAAAAAAAAGI/ksjM6AaFm5w/s400/Whippet%2B-%2BActive%2BDogs%2B03.jpg\n",
      "281 https://upload.wikimedia.org/wikipedia/commons/5/5c/02._Bheem_the_male_rajapalayam.jpg\n",
      "282 https://media.giphy.com/media/W72tqy0vyIsvK/giphy.gif\n",
      "283 https://health.ucdavis.edu/common/includes/shared/features/2010-2011/02/Images/drug_dog.jpg\n",
      "284 http://2.bp.blogspot.com/-LFHR832iGdw/TZN-iJhggHI/AAAAAAAAAY0/dUfP9c_y8Bo/s1600/dog+fail+10.jpg\n",
      "285 https://i.pinimg.com/736x/d0/bc/b9/d0bcb9f8caca7a536f9daded6dd21d67--anatolian-shepherd-dog-photos.jpg\n",
      "286 https://upload.wikimedia.org/wikipedia/commons/2/29/AdrianStoica_Rory_discdog.jpeg\n",
      "287 https://todayspetpics.files.wordpress.com/2013/04/best-dog-park-ever.jpg\n",
      "288 https://www.nippon.com/hk/ncommon/contents/views/70386/70386.jpg\n",
      "289 http://www.lunametrics.com/wp-content/uploads/2012/08/freaked-out-dog-300x2251.jpg\n",
      "290 http://cdn.attackofthecute.com/July-31-2013-20-55-02-ii.jpg\n",
      "291 http://1.bp.blogspot.com/-SQjsq5wOpTU/UOQuxnB-RMI/AAAAAAAAOEQ/9bjLDJldQCs/s320/Pug+Dog+15.jpg\n",
      "292 http://media.gettyimages.com/photos/dog-with-closed-eyes-picture-id123987084?s=170667a\n",
      "293 http://4.bp.blogspot.com/_UTzIAi3vBcY/TQ2b3Y9-WgI/AAAAAAAAA0E/bKDw6b_lY9Q/s1600/WebHund62010.jpg\n",
      "294 https://mandalaoftheday.files.wordpress.com/2017/02/17-052-dog-through-fire-hoop.jpg\n",
      "295 https://upload.wikimedia.org/wikipedia/commons/thumb/3/31/Aksaray_malaklisi_beto.jpg/220px-Aksaray_malaklisi_beto.jpg\n",
      "296 http://ww1.prweb.com/prfiles/2014/04/30/11813091/FC043.jpg\n",
      "297 http://cdn.skim.gs/image/upload/v1456338021/msi/dog_pound_q55tos.jpg\n",
      "298 http://4.bp.blogspot.com/-YqGnAv0gNMI/UP5eHntcTmI/AAAAAAAAARA/z7VhPx0k7rk/s320/mutant+dog.jpg\n",
      "299 https://static.designboom.com/wp-content/uploads/2017/11/aibo-robot-dog-designboom-600.gif\n"
     ]
    }
   ],
   "source": [
    "img_save('dog', 1)"
   ]
  },
  {
   "cell_type": "code",
   "execution_count": 358,
   "metadata": {},
   "outputs": [
    {
     "name": "stdout",
     "output_type": "stream",
     "text": [
      "TOTAL ESTIMATED MATCHES: 489\n",
      "300 https://upload.wikimedia.org/wikipedia/commons/thumb/3/31/Aksaray_malaklisi_beto.jpg/220px-Aksaray_malaklisi_beto.jpg\n",
      "301 http://ww1.prweb.com/prfiles/2014/04/30/11813091/FC043.jpg\n",
      "302 http://cdn.skim.gs/image/upload/v1456338021/msi/dog_pound_q55tos.jpg\n",
      "303 http://4.bp.blogspot.com/-YqGnAv0gNMI/UP5eHntcTmI/AAAAAAAAARA/z7VhPx0k7rk/s320/mutant+dog.jpg\n",
      "304 https://static.designboom.com/wp-content/uploads/2017/11/aibo-robot-dog-designboom-600.gif\n",
      "305 https://ae01.alicdn.com/kf/HTB1EBSKLFXXXXa1XVXXq6xXFXXXv/Wholesale-Cheap-font-b-Dog-b-font-Jumpsuits-Clothes-For-font-b-Dog-b-font-Chihuahua.jpg\n",
      "306 http://wiki.godvillegame.com/images/thumb/d/df/Toothless_Sun_Dog.jpg/200px-Toothless_Sun_Dog.jpg\n",
      "307 https://i.pinimg.com/736x/6d/7a/9d/6d7a9d946b04e36437b3f6f0a982fb9d--belgian-malinois-puppies-malinois-dog.jpg\n",
      "308 http://starschanges.com/wp-content/uploads/2016/08/sandra-bullock-dog-poppy.jpg\n",
      "309 http://3.bp.blogspot.com/-mFP84hcSGqs/T2FYbp-QbCI/AAAAAAAAArc/I1IvXzHu0V0/w1200-h630-p-k-no-nu/Newfoundland+Dog06.jpg\n",
      "310 http://blog.chron.com/mormonvoice/files/2013/02/MyDogSkip3.jpg\n",
      "311 https://1.bp.blogspot.com/-2ivQfd2wxxM/WIdlvymPeWI/AAAAAAAADck/xpLrvz6zzz0_MV81lKwmwalGCyWSEzS1gCLcB/s1600/helen-keller-with-pet-dog.jpg\n",
      "312 https://1.bp.blogspot.com/-0RtABfaerbM/VjMaKqSkaZI/AAAAAAAAF3o/k4xB2eX2ODs/s1600/dog-trainer.jpg\n",
      "313 http://4.bp.blogspot.com/_GmGgSwphvaI/THIcGwbMvSI/AAAAAAAAAuE/HuS2rBIkSgc/s320/bellafinishedsmall.jpg\n",
      "314 http://www.shiba-dog.cz/benji_d_12-2015.jpg\n",
      "315 https://c2.staticflickr.com/2/1229/1444187362_fae5306df4.jpg\n",
      "316 http://farm9.staticflickr.com/8192/8078223008_d55ed9a7e5_z.jpg\n",
      "317 https://upload.wikimedia.org/wikipedia/en/thumb/3/32/Guidedogcindy.jpg/220px-Guidedogcindy.jpg\n",
      "318 https://insights.globalspec.com/images/assets/532/11532/Puppy.png\n",
      "319 https://pbs.twimg.com/profile_images/1555413949/buff_dog_400x400.jpg\n",
      "320 https://i.pinimg.com/originals/98/51/ff/9851ff3a4f5b77a0698d3f8784d0b237.jpg\n",
      "321 http://2.bp.blogspot.com/-9K4RsP6-TJw/UOQuY28riWI/AAAAAAAAN7Y/cS1D4okEgWw/s1600/16310934-a-little-toy-poodle-dog-in-the-morning.jpg\n",
      "322 https://upload.wikimedia.org/wikipedia/commons/thumb/f/f0/Dog_relief_from_me%CA%BBae_I%CA%BBipona%2C_Puama%CA%BBu_Village%2C_Hiva_Oa%2C_Marquesas_Islands%2C_photograph_by_Moth_Clark%2C_2009_%28levels_adjusted%29.jpg/1200px-Dog_relief_from_me%CA%BBae_I%CA%BBipona%2C_Puama%CA%BBu_Village%2C_Hiva_Oa%2C_Marquesas_Islands%2C_photograph_by_Moth_Clark%2C_2009_%28levels_adjusted%29.jpg\n",
      "323 https://upload.wikimedia.org/wikipedia/commons/c/c7/Rosa_Bonheur_-_Brizo_the_dog.jpg\n",
      "324 https://upload.wikimedia.org/wikipedia/commons/e/e4/Canaan_Dog.jpg\n",
      "325 http://2.bp.blogspot.com/_d3UaDCdaRXA/Sre0dSO_uPI/AAAAAAAAE7c/yY67FwlRj2U/w1200-h630-p-k-no-nu/Bookmarks+2009.jpg\n",
      "326 https://upload.wikimedia.org/wikipedia/en/thumb/c/c6/Dog_Eat_Dog_%282016_film%29.jpg/220px-Dog_Eat_Dog_%282016_film%29.jpg\n",
      "327 http://4.bp.blogspot.com/-AZVgWX7tgKg/UEwqg7AW3OI/AAAAAAAAAG8/5tix7l3wKL4/s1600/cold+wet+dog.jpg\n",
      "328 https://upload.wikimedia.org/wikipedia/commons/7/76/BobtheSouthAustralianRailways_Dogweb.jpg\n",
      "329 http://onlydogbreeds.com/images/puppiesLrg/pembroke_welsh_cori_puppy.jpg\n",
      "330 https://upload.wikimedia.org/wikipedia/en/b/b8/Pablo_the_Drug_Mule_Dog.jpg\n",
      "331 https://upload.wikimedia.org/wikipedia/commons/thumb/6/64/Estrela_Mountain_Dog_Lion%27s_Mane.JPG/220px-Estrela_Mountain_Dog_Lion%27s_Mane.JPG\n",
      "332 https://i.pinimg.com/736x/6c/6a/59/6c6a5978f6565348f1f28b71da105898--sloughi-animals-dog.jpg\n",
      "333 https://upload.wikimedia.org/wikipedia/commons/1/19/Sinbad_USCG_publicity_still.jpg\n",
      "334 https://cdn.pixabay.com/photo/2012/08/21/05/01/dog-54626_640.jpg\n",
      "335 http://cbsnews1.cbsistatic.com/hub/i/2016/02/17/18929495-e3ee-4f90-9da5-dc607dc91d4b/westminster-promo.jpg\n",
      "336 https://secure.i.telegraph.co.uk/multimedia/archive/01845/dog220_1845970a.jpg\n",
      "337 https://i.pinimg.com/736x/69/c1/10/69c1107449ae9a3a44afcd48bda47517--westie-dog-westies.jpg\n",
      "338 https://i.pinimg.com/736x/6a/02/d7/6a02d7d0eef910f2b758923578a489a8.jpg\n",
      "339 https://www.telluride.com/uploads/listings/299/Gondogola-large.jpg\n",
      "340 https://upload.wikimedia.org/wikipedia/commons/thumb/1/12/2.CAO_in_Hungary.jpg/220px-2.CAO_in_Hungary.jpg\n",
      "341 https://i.vimeocdn.com/filter/overlay?src0=https%3A%2F%2Fi.vimeocdn.com%2Fvideo%2F241881576_1280x960.jpg&src1=https%3A%2F%2Ff.vimeocdn.com%2Fimages_v6%2Fshare%2Fplay_icon_overlay.png\n",
      "342 https://s-i.huffpost.com/gen/3781196/images/o-DOG-SCIENTIST-facebook.jpg\n",
      "343 http://st.automobilemag.com/uploads/sites/11/2019/02/Tesla-Dog-Mode.png\n",
      "344 https://us-east-1.tchyn.io/snopes-production/uploads/2017/06/dog_mayor_brynneth_pawltro_fb.jpg\n",
      "345 http://3.bp.blogspot.com/-hYaW1hSvB0Y/UOQjdKc2RkI/AAAAAAAALbA/HlDzdUNVhZs/s1600/AnatolianShepherdDogAndPerson_wb.jpg\n",
      "346 https://timedotcom.files.wordpress.com/2014/08/hot-dog-1.jpg\n",
      "346 NOT FOUND\n",
      "347 https://upload.wikimedia.org/wikipedia/commons/thumb/0/0a/19%2C_Otaheite_Dog%2C_Charles_Catton%27s_Animals_%281788%29_%28cropped%29.jpg/1200px-19%2C_Otaheite_Dog%2C_Charles_Catton%27s_Animals_%281788%29_%28cropped%29.jpg\n",
      "348 https://upload.wikimedia.org/wikipedia/commons/6/65/Morktvampyr.jpg\n",
      "349 http://2.bp.blogspot.com/-TPGDBgxukac/UGs1Qfz3zsI/AAAAAAAAOss/Dq9bTrey-tg/w1200-h630-p-k-no-nu/vampire+dog.jpg\n",
      "350 https://4.bp.blogspot.com/-IOjkidVlMHY/UmaECiDo5zI/AAAAAAAAucU/FcP4n77kG9c/s1600/009-funny-animal-gifs-dog-opens-door.gif\n",
      "351 https://upload.wikimedia.org/wikipedia/commons/9/91/Brownie_Century_Comedies_Wonder_Dog_-_Aug_1921_EH.jpg\n",
      "352 https://www.zoekertjes.net/gallery/full/481/duitse-dog-pups.jpg\n",
      "353 https://upload.wikimedia.org/wikipedia/commons/thumb/5/52/MacksCoalMtnTimber.jpg/220px-MacksCoalMtnTimber.jpg\n",
      "354 https://upload.wikimedia.org/wikipedia/commons/thumb/7/71/Illustration_of_a_Fuegian%2C_Yapoo_Tekenika_Wellcome_L0076886.jpg/1200px-Illustration_of_a_Fuegian%2C_Yapoo_Tekenika_Wellcome_L0076886.jpg\n",
      "355 http://3.bp.blogspot.com/-uQNbqnETzpU/T6APNg3ufcI/AAAAAAAAKao/IF93OMI--dI/s1600/armored+dog.jpg\n",
      "356 https://i.pinimg.com/736x/78/13/7b/78137b1dac6b80dfce9a400fc760ffb1--dog-halloween-costumes-pet-costumes.jpg\n",
      "357 http://1.bp.blogspot.com/_WldHkKqwVGU/TBptZJ0M4BI/AAAAAAAAAn8/vWdqeNzuWwM/s1600/AkbashDogPurebredBear.JPG\n",
      "358 https://3.bp.blogspot.com/-lhbFqKmKTqY/TZjupL6s_AI/AAAAAAAAAjk/c56bATLl3Tk/s1600/dog%2Bwith%2Bnipples.jpg\n",
      "359 https://4.bp.blogspot.com/-0Uhr3U50wvQ/V3GtMeZEZHI/AAAAAAAADYM/du2MFudsYJAlHxC6iArhn5IOmenBaKHaQCLcB/s1600/IMG_5136.JPG\n",
      "360 https://upload.wikimedia.org/wikipedia/commons/thumb/5/55/Fala-detail-FDR-Memorial.jpg/234px-Fala-detail-FDR-Memorial.jpg\n",
      "361 https://upload.wikimedia.org/wikipedia/commons/thumb/7/74/Agilitydog.jpg/220px-Agilitydog.jpg\n",
      "362 https://upload.wikimedia.org/wikipedia/commons/6/6b/Vue_de_Honolulu._lles_Sandwich%2C_c._1836%2C_color_print_%28crop_of_dog%29.jpg\n",
      "363 https://upload.wikimedia.org/wikipedia/commons/thumb/4/4c/Nucella_lapillus_01.JPG/1920px-Nucella_lapillus_01.JPG\n",
      "364 https://upload.wikimedia.org/wikipedia/commons/thumb/2/20/Belgium-6015_-_Most_Photographed_Dog_in_Burges_%2813902076955%29.jpg/220px-Belgium-6015_-_Most_Photographed_Dog_in_Burges_%2813902076955%29.jpg\n",
      "365 https://api.hub.jhu.edu/factory/sites/default/files/styles/hub_xlarge/public/service_dog_021218.jpg?itok=2nKDnOm6\n",
      "366 https://upload.wikimedia.org/wikipedia/en/thumb/8/89/Moonie-Legally-Blonde.png/220px-Moonie-Legally-Blonde.png\n",
      "367 https://vignette2.wikia.nocookie.net/marveldatabase/images/9/91/Wolverine_and_the_X-Men_Vol_1_26_Textless.jpg/revision/latest/scale-to-width-down/332?cb=20121212191726\n",
      "368 https://upload.wikimedia.org/wikipedia/commons/2/25/White_Dog_Cafe.jpg\n",
      "369 https://upload.wikimedia.org/wikipedia/commons/6/65/Dog_Island_Lighthouse_03_crop.jpg\n",
      "370 https://3.bp.blogspot.com/-VYDYHHRVRQ4/V3GtMWr-giI/AAAAAAAADYI/nbObtqTUGJ8rXsOx9Ld9sHSKynZZnex_ACLcB/s1600/IMG_5137.JPG\n",
      "371 https://upload.wikimedia.org/wikipedia/commons/thumb/0/07/Dogue_de_Bordeaux_standing_original.jpg/1200px-Dogue_de_Bordeaux_standing_original.jpg\n",
      "372 https://media.giphy.com/media/L0OSY2OQ4AqD6/giphy.gif\n",
      "373 https://upload.wikimedia.org/wikipedia/en/a/ae/Stone_Dog_II_%28Forest_Park%2C_Springfield%2C_MA%29.jpeg\n",
      "374 https://editorial.designtaxi.com/news-dogpaint1906/8.jpg\n",
      "375 https://thenypost.files.wordpress.com/2013/08/14ps-dogwater-300x300.jpg?quality=90&strip=all&w=300&h=299&crop=1\n",
      "376 https://upload.wikimedia.org/wikipedia/en/thumb/7/7a/ADogNamedChristmasTelevisionMovieAd.JPG/250px-ADogNamedChristmasTelevisionMovieAd.JPG\n"
     ]
    },
    {
     "name": "stdout",
     "output_type": "stream",
     "text": [
      "377 https://upload.wikimedia.org/wikipedia/commons/a/ab/Brown_Dog_statue%2C_Battersea%2C_London%282%29.jpg\n",
      "378 https://upload.wikimedia.org/wikipedia/en/2/2e/Cold_Dog_Soup_%281990_film%29.jpg\n",
      "379 https://upload.wikimedia.org/wikipedia/en/c/c6/Dog_Days_preview_poster.jpg\n",
      "380 https://lmiller82691.files.wordpress.com/2015/02/mcgruffthecrimedog.jpg?w=1022\n",
      "381 https://i.pinimg.com/originals/c6/b2/99/c6b29945b786f98c6e9e6eec5406fd33.jpg\n",
      "382 https://upload.wikimedia.org/wikipedia/en/thumb/5/52/Lenny_the_Wonder_Dog_DVD_cover.jpg/220px-Lenny_the_Wonder_Dog_DVD_cover.jpg\n",
      "383 https://upload.wikimedia.org/wikipedia/en/8/89/DOGTV_Logo.png\n",
      "384 https://upload.wikimedia.org/wikipedia/en/6/65/SweetNothingsDogFashionDisco.jpg\n",
      "385 https://vignette2.wikia.nocookie.net/muppet/images/b/b8/DimplestheDog.jpg/revision/latest/scale-to-width-down/259?cb=20141015204636\n",
      "386 https://i.pinimg.com/736x/db/d4/b3/dbd4b3322af416f147790b920ba5a970--dog-shaming-photos-funny-dog-shaming.jpg\n",
      "387 https://upload.wikimedia.org/wikipedia/commons/8/8b/TalbotHound_Talbot_Shrewsbury_Book_1445.png\n",
      "388 https://shop.line-scdn.net/themeshop/v1/products/83/8d/f6/838df669-1362-4321-bdaa-cb3f56a96b6e/41/WEBSTORE/icon_198x278.png?__=20161019\n",
      "389 http://2.bp.blogspot.com/-H4miKj1hpCQ/UmmJ0Ni7deI/AAAAAAAAAfM/zJhGOYbonEI/s1600/hot-piesel-dog%5B1%5D.png\n",
      "390 https://upload.wikimedia.org/wikipedia/fi/thumb/f/f8/Dannythedog.jpg/250px-Dannythedog.jpg\n",
      "391 https://upload.wikimedia.org/wikipedia/commons/thumb/d/d4/Lad_A_Dog_%281919%2C_touched_up%29.jpg/220px-Lad_A_Dog_%281919%2C_touched_up%29.jpg\n",
      "392 https://upload.wikimedia.org/wikipedia/en/8/89/Dog_Food_EP.jpg\n",
      "393 https://www.gannett-cdn.com/-mm-/e96f1f768894e5593294e999fe6b103993c12959/c=0-93-1072-699&r=x633&c=1200x630/local/-/media/2015/08/07/DetroitFreePress/DetroitFreePress/635745638350361761-0907-dogfighting.9-09-07-200.jpg\n",
      "394 https://upload.wikimedia.org/wikipedia/commons/thumb/3/35/Dog_Daze_FilmPoster.jpeg/1200px-Dog_Daze_FilmPoster.jpeg\n",
      "395 http://1.media.collegehumor.cvcdn.com/87/55/cdf8262863bfe15feca2e1697f4e78dd-dog-translator-from-up.jpg\n",
      "395 BAD CONNECTION\n",
      "396 https://i.pinimg.com/736x/22/71/97/2271975efdb7e9b86b73ac56d17d1432--awesome-dogs-cute-dogs.jpg\n",
      "397 http://upload.wikimedia.org/wikipedia/commons/thumb/d/d9/Mobility_Service_Dog_Bracing.jpg/220px-Mobility_Service_Dog_Bracing.jpg\n",
      "398 https://i2-prod.mirror.co.uk/incoming/article11494215.ece/ALTERNATES/s615/SWNS_DOG_THROW_03.jpg\n",
      "399 https://upload.wikimedia.org/wikipedia/commons/thumb/c/c2/Salty_Dog.jpg/220px-Salty_Dog.jpg\n",
      "400 https://www.pawsify.com/wp-content/uploads/2019/03/dog-leopard-print.jpg\n",
      "401 https://www.superiorpetgoods.com.au/wp-content/uploads/2020/01/Hessian-Dog-Mat-800x534.jpg\n",
      "402 https://www.superiorpetgoods.com.au/wp-content/uploads/2020/01/Hessian-Dog-Mat_2-800x534.jpg\n",
      "403 https://www.superiorpetgoods.com.au/wp-content/uploads/2020/01/Ortho-Dog-Mat_2-800x534.jpg\n",
      "404 https://www.superiorpetgoods.com.au/wp-content/uploads/2020/01/Ortho-Dog-Mat-800x534.jpg\n",
      "405 https://www.superiorpetgoods.com.au/wp-content/uploads/2020/01/Ortho-Dog-Mat_3-800x534.jpg\n",
      "406 https://www.superiorpetgoods.com.au/wp-content/uploads/2020/01/Denim-Dog-Mat-800x534.jpg\n",
      "407 https://www.superiorpetgoods.com.au/wp-content/uploads/2020/01/Denim-Dog-Mat_2-800x534.jpg\n",
      "408 https://rhmonth.org/wp-content/uploads/2020/02/dog-themed-toys-food-the-subscription-service-that-treats-your-four-legged-friends.jpg\n",
      "409 https://www.superiorpetgoods.com.au/wp-content/uploads/2020/01/Denim-Dog-Mat_3-800x534.jpg\n",
      "410 https://atlasbalansdog.com/wp-content/uploads/2019/11/002-atlas-dog-full-dog-treatment.jpg\n",
      "411 https://oppidan.com/_uls/resources/klondike_dog_derby-web_resized.jpg\n",
      "412 https://rhmonth.org/wp-content/uploads/2020/02/dog-themed-toys-london-how-to-make-a-sun-print-school-outfits-homemade.jpg\n",
      "413 https://www.superiorpetgoods.com.au/wp-content/uploads/2020/01/Camo-Dog-Mat-800x534.jpg\n",
      "414 https://homearchive.org/uploads/large/WVVoU01HTkViM1pNTW10MVdsZEthR1ZYYkhSYWVUVnFZakl3ZG1GWE1XaGFNbFo2VERKcmRrMVVhM2hQUkdNMVRWUm5lRTVxWTNwTVZFRjBUVk01ZWt4WGQzaE5SRUYzVEcxd2QxcDM/dog-cone/didog-inflatable-cat-dog-medical-collars-veterinary-vet.jpg\n",
      "415 http://cdn.shopify.com/s/files/1/0065/6788/6901/products/Plush-Pet-Blanket-Soft-Comfortable-Warm-Dog-Bed-Kennel-Puppy-Cushion-Blanket-For-Dog-Pet-Supplies_68a06e61-70e7-4f77-ae33-cd33980c49a8_1200x1200.jpg?v=1579850613\n",
      "416 https://cdn.shopify.com/s/files/1/0065/6788/6901/products/Plush-Pet-Blanket-Soft-Comfortable-Warm-Dog-Bed-Kennel-Puppy-Cushion-Blanket-For-Dog-Pet-Supplies_1200x1200.jpg?v=1579850613\n",
      "417 https://homearchive.org/uploads/large/WVVoU01HTklUVFpNZVRsM1dsYzVkMkpIVm10aU0xSnFZakl3ZFZwdGJITmFXRTExWkRJNWVWcElRbmxhV0U1NlRHMU9kbUpUT0hsTlJFVTFUSHBCTUV3eVRuWmliVlYwV2tjNWJreFVSWGRNYlhCM1duYw/dog-cone/dog-cone-of-shame-costumes-photos.jpg\n",
      "418 http://cdn.shopify.com/s/files/1/0065/6788/6901/products/Summer-Cooling-Mats-Blanket-Ice-Pet-Dog-Bed-Mats-For-Dogs-Cats-Sofa-Portable-Tour-Camping_1200x1200.jpg?v=1579847629\n",
      "419 https://www.superiorpetgoods.com.au/wp-content/uploads/2020/01/Carpet-Dog-Mat-1024x684.jpg\n",
      "420 https://www.blencathra.net/wp-content/uploads/2019/11/dog-valentine-puns-fresh-lurcher-valentines-card-greyhound-valentine-card-of-dog-valentine-puns.jpg\n",
      "421 https://cdn.shopify.com/s/files/1/0065/6788/6901/products/Winter-Dog-Bed-Blanket-Pet-Sleeping-Mat-Warm-Cat-Dog-Bed-Cover-Pet-Sofa-Cushion-Mattress_563afb96-25f5-483a-aa8c-edbb9f5dfb99_1200x1200.jpg?v=1579847631\n",
      "422 http://cdn.shopify.com/s/files/1/0065/6788/6901/products/Winter-Dog-Bed-Blanket-Pet-Sleeping-Mat-Warm-Cat-Dog-Bed-Cover-Pet-Sofa-Cushion-Mattress_1200x1200.jpg?v=1579847631\n",
      "423 https://cdn.shopify.com/s/files/1/0065/6788/6901/products/Winter-Dog-Bed-Blanket-Pet-Sleeping-Mat-Warm-Cat-Dog-Bed-Cover-Pet-Sofa-Cushion-Mattress_276ed390-172c-4b37-8ad6-f99a090f5a3b_1200x1200.jpg?v=1579847631\n",
      "424 https://cdnakbizmag.vertiqul.com/wp-content/uploads/2020/01/iron-dog-meta.jpg\n",
      "425 https://stat.ameba.jp/user_images/20200205/11/dog-rest/28/cd/j/o1080081014708055598.jpg?caw=800\n",
      "426 https://stat.ameba.jp/user_images/20200205/11/dog-rest/6d/ea/j/o1080081014708055593.jpg?caw=800\n",
      "427 https://stat.ameba.jp/user_images/20200205/11/dog-rest/e9/de/j/o1080081014708055613.jpg?caw=800\n",
      "428 https://upload.wikimedia.org/wikipedia/commons/thumb/3/32/2019_Pavlovs_Dog_-_by_2eight_-_ZSC4488.jpg/1200px-2019_Pavlovs_Dog_-_by_2eight_-_ZSC4488.jpg\n",
      "429 https://www.petguide.com/wp-content/uploads/2020/02/Best-Dog-Ear-Cleaners-1024x677.jpg\n",
      "430 https://images.askmen.com/1080x540/2020/02/06-110616-best_dog_seat_belts.jpg\n",
      "431 https://photos.costume-works.com/full/lego_dog1.jpg\n",
      "432 https://www.dogstrust.org.uk/dogimages/1224953_bertie_20200205034938_i7l_3730p_800.jpg\n",
      "433 https://www.dogstrust.org.uk/dogimages/1234323_ricoh_20200206023039_ricoh-dob_800.jpg\n",
      "434 https://www.dogstrust.org.uk/dogimages/1237112_buster_20200205105910_buster-rottie-5_800.JPG\n",
      "435 https://homearchive.org/uploads/large/WVVoU01HTkViM1pNTTJRelpIazFjMkZZV214aVNGWXlXVE5LYkZsWVVteE1iVTUyWWxNNWQyRlhUbnBNTTA1dldWY3hiRnBHT1hkYVdGSjZUbE0xY1dOSFl3/ashamed-dog/misbehaved-pets-being-adorably-ashamed-article.jpg\n",
      "436 https://d1csarkz8obe9u.cloudfront.net/posterpreviews/dog-walking-design-template-88cefadaf15f8d7911fd697a0649a3d6_screen.jpg?ts=1580900342\n",
      "437 https://www.dogstrust.org.uk/dogimages/1237112_buster_20200205105945_buster-rottie-2_800.JPG\n",
      "438 https://www.dogstrust.org.uk/dogimages/1237371_reggie_20200205093036_3rd_800.JPG\n",
      "439 https://www.superiorpetgoods.com.au/wp-content/uploads/2020/01/Camo-Dog-Bed-1024x684.jpg\n",
      "440 https://www.dogstrust.org.uk/dogimages/1237280_rambo_20200207120117_rambo-(5)_800.JPG\n",
      "441 https://www.dogstrust.org.uk/dogimages/1237280_rambo_20200204102258_rambo-(2)_800.JPG\n",
      "442 https://www.dogstrust.org.uk/dogimages/1237280_rambo_20200207120150_rambo-(3)_800.JPG\n",
      "443 https://www.dogstrust.org.uk/dogimages/1236947_zara_20200207032810_zara-2_800.jpg\n",
      "444 https://www.dogstrust.org.uk/dogimages/1236947_zara_20200207032737_zara-1_800.jpg\n",
      "445 https://www.dogstrust.org.uk/dogimages/1237423_koda_20200207121402_img_5352_800.jpg\n",
      "446 https://www.dogstrust.org.uk/dogimages/1237461_rosco_20200209041321_4th_800.JPG\n",
      "447 https://www.dogstrust.org.uk/dogimages/1237508_bear_20200207114310_bear-a_800.JPG\n"
     ]
    },
    {
     "name": "stdout",
     "output_type": "stream",
     "text": [
      "448 https://www.dogstrust.org.uk/dogimages/1082961_pippa_20200206113749_pippa-1_800.jpg\n",
      "449 https://www.dogstrust.org.uk/dogimages/1236947_zara_20200207032842_zara-3rd_800.jpg\n"
     ]
    }
   ],
   "source": [
    "img_save('dog', 2)"
   ]
  },
  {
   "cell_type": "code",
   "execution_count": 359,
   "metadata": {},
   "outputs": [
    {
     "name": "stdout",
     "output_type": "stream",
     "text": [
      "TOTAL ESTIMATED MATCHES: 489\n",
      "450 https://dogbarkingcontroldevices.com/wp-content/uploads/2020/02/dog_barking_control_devices_safely_and_humanely_control_dog_barking.jpg\n",
      "451 https://www.amylouisejackson.com/wp-content/uploads/dog-wallpaper-4k-games-archives-page-49-of-180-free-hd-wallpapers-4k-of-dog-wallpaper-4k.jpg\n",
      "452 https://www.coques-telephone.com/10520-large_default/samsung-galaxy-s6-case-chihuahua-dog.jpg\n",
      "453 https://www.summitdogrescue.org/uploads/1/7/4/1/17419925/noodle-2.jpg\n",
      "454 https://www.dogideas.net/wp-content/uploads/main-image-Entlebucher-Sennenhund.jpeg\n",
      "455 https://png4free.com/wp-content/uploads/2020/02/Big-Dog-Licks(1)-720x635.jpg\n",
      "456 https://chicagolanddogrescue.org/wp-content/uploads/2020/02/ravenintakepic12020.jpeg\n",
      "457 https://www.breedyourdog.com/uploads/listing_images/39834/110929/big_listing_image_1580862003_1.jpeg\n",
      "458 https://galapagoslastminute.co/wp-content/uploads/2019/11/dog-daycare-eugene-elderly-man-with-his-dog-at-grand-in-or-doggie-daycare-eugene-oregon.jpg\n",
      "458 BAD CONNECTION\n",
      "459 https://www.dogmodelsuk.co.uk/wp-content/uploads/2020/02/sandy-3-2.jpg\n",
      "460 https://cookingwithdog.com/wp-content/uploads/2020/01/tantan-nabe-39.jpg\n",
      "461 https://www.blencathra.net/wp-content/uploads/2019/11/asian-dog-lovely-central-asian-ovcharka-alabai-of-asian-dog.jpg\n",
      "462 https://cdn.shopify.com/s/files/1/0065/6788/6901/products/Soft-Fleece-Puppy-Dog-Sleep-Blanket-Cat-Thick-Warm-Blankets-Pet-House-Sleeping-Bed-Mat-Pad_1200x1200.jpg?v=1579847629\n",
      "463 https://www.blencathra.net/wp-content/uploads/2019/11/lost-dog-joke-inspirational-20-funny-lost-and-found-pet-posters-of-lost-dog-joke.jpg\n",
      "464 https://www.dogmodelsuk.co.uk/wp-content/uploads/2020/02/sandy-5.jpg\n",
      "465 https://www.dogstrust.org.uk/dogimages/1237280_rambo_20200207120152_rambo-(2)_800.JPG\n",
      "466 https://cdn.shopify.com/s/files/1/0065/6788/6901/products/Useful-Dog-Poop-Waste-Bag-Storage-Box-Pet-Supplies-Garbage-Bags-Carrier-Holder-Cleaning-Tool-Litter_1200x1200.jpg?v=1579850620\n",
      "467 https://www.dogstrust.org.uk/dogimages/1237508_bear_20200207114314_bear-b_800.JPG\n",
      "468 https://www.dogstrust.org.uk/dogimages/1237508_bear_20200207114316_bear-c_800.JPG\n",
      "469 https://www.dogstrust.org.uk/dogimages/1237519_lilly_20200210110027_lily-boxer-1_800.JPG\n",
      "470 https://www.dogstrust.org.uk/dogimages/1237508_bear_20200207114318_bear-d_800.JPG\n",
      "471 https://www.dogstrust.org.uk/dogimages/1237461_rosco_20200209041321_4th_800.JPG\n",
      "472 https://www.dogstrust.org.uk/dogimages/1082961_pippa_20200206113749_pippa-1_800.jpg\n",
      "473 https://www.dogstrust.org.uk/dogimages/1236947_zara_20200207032842_zara-3rd_800.jpg\n",
      "474 https://www.dogstrust.org.uk/dogimages/1237231_buster_20200208094535_img_0018_800.JPG\n",
      "475 https://www.dogstrust.org.uk/dogimages/1237508_bear_20200207114310_bear-a_800.JPG\n",
      "476 https://www.dogstrust.org.uk/dogimages/1237423_koda_20200207121402_img_5352_800.jpg\n",
      "477 https://www.dogstrust.org.uk/dogimages/1236947_zara_20200207032737_zara-1_800.jpg\n",
      "478 https://www.prodogtraining.com.au/wp-content/uploads/2020/02/IMG_9249-1024x1024.jpg\n",
      "479 https://www.superiorpetgoods.com.au/wp-content/uploads/2020/01/Camo-Dog-Bed-800x534.jpg\n",
      "480 https://roaddogtrucksales.com/wp-content/uploads/2020/02/U75777a-1024x768.jpg\n",
      "481 https://www.dogstrust.org.uk/dogimages/1236947_zara_20200207032810_zara-2_800.jpg\n",
      "482 https://roaddogtrucksales.com/wp-content/uploads/2019/06/V00645a-1-1024x768.jpg\n",
      "483 https://roaddogtrucksales.com/wp-content/uploads/2020/02/U75777g-1024x768.jpg\n",
      "484 https://snackconnection-marktplatz.de/wp-content/uploads/2020/01/Wurst-Hot-Dog-D%C3%A4nemark-A_-ISS_7542_08077.jpg\n",
      "485 https://www.dogstrust.org.uk/dogimages/1237280_rambo_20200204102258_rambo-(2)_800.JPG\n",
      "486 https://www.dogstrust.org.uk/dogimages/1237280_rambo_20200207120150_rambo-(3)_800.JPG\n",
      "487 https://olddoghaven.org/wp-content/uploads/2020/02/Alex-SAM-020720-FS-scaled.jpg\n",
      "488 https://happy-dog.mx/wp-content/uploads/2020/01/cropped-WhatsApp-Image-2020-01-07-at-8.00.56-AM.jpeg\n",
      "488 BAD CONNECTION\n"
     ]
    }
   ],
   "source": [
    "img_save('dog', 3)"
   ]
  },
  {
   "cell_type": "markdown",
   "metadata": {},
   "source": [
    "Format the images and save to arrays"
   ]
  },
  {
   "cell_type": "code",
   "execution_count": 8,
   "metadata": {},
   "outputs": [],
   "source": [
    "x_cat, Y_cat = img_format('cat')"
   ]
  },
  {
   "cell_type": "code",
   "execution_count": 9,
   "metadata": {},
   "outputs": [],
   "source": [
    "x_dog, Y_dog = img_format('dog')"
   ]
  },
  {
   "cell_type": "code",
   "execution_count": 10,
   "metadata": {},
   "outputs": [],
   "source": [
    "x_train = np.concatenate((x_cat, x_dog))"
   ]
  },
  {
   "cell_type": "code",
   "execution_count": 11,
   "metadata": {},
   "outputs": [],
   "source": [
    "x_train = x_train.reshape(len(x_train), 100, 100, 3, 1)"
   ]
  },
  {
   "cell_type": "code",
   "execution_count": 12,
   "metadata": {},
   "outputs": [],
   "source": [
    "Y_train = np.concatenate((Y_cat, Y_dog))"
   ]
  },
  {
   "cell_type": "code",
   "execution_count": 13,
   "metadata": {},
   "outputs": [],
   "source": [
    "Y_train = (Y_train == 'cat').astype(int)"
   ]
  },
  {
   "cell_type": "markdown",
   "metadata": {},
   "source": [
    "Train NN"
   ]
  },
  {
   "cell_type": "code",
   "execution_count": 14,
   "metadata": {},
   "outputs": [],
   "source": [
    "from tensorflow.keras.models import Sequential\n",
    "from tensorflow.keras.layers import Dense, Conv2D, Dropout, Flatten, MaxPooling2D"
   ]
  },
  {
   "cell_type": "code",
   "execution_count": 15,
   "metadata": {},
   "outputs": [],
   "source": [
    "nn_model = Sequential()"
   ]
  },
  {
   "cell_type": "code",
   "execution_count": 16,
   "metadata": {},
   "outputs": [],
   "source": [
    "nn_model.add(Dense(16, input_shape=x_train[0].shape, activation='relu'))\n",
    "nn_model.add(Dense(16,  activation='relu'))\n",
    "nn_model.add(Flatten())\n",
    "nn_model.add(Dense(len(np.unique(Y_train)),  activation='softmax'))"
   ]
  },
  {
   "cell_type": "code",
   "execution_count": 17,
   "metadata": {},
   "outputs": [
    {
     "name": "stdout",
     "output_type": "stream",
     "text": [
      "Model: \"sequential\"\n",
      "_________________________________________________________________\n",
      "Layer (type)                 Output Shape              Param #   \n",
      "=================================================================\n",
      "dense (Dense)                (None, 100, 100, 3, 16)   32        \n",
      "_________________________________________________________________\n",
      "dense_1 (Dense)              (None, 100, 100, 3, 16)   272       \n",
      "_________________________________________________________________\n",
      "flatten (Flatten)            (None, 480000)            0         \n",
      "_________________________________________________________________\n",
      "dense_2 (Dense)              (None, 2)                 960002    \n",
      "=================================================================\n",
      "Total params: 960,306\n",
      "Trainable params: 960,306\n",
      "Non-trainable params: 0\n",
      "_________________________________________________________________\n"
     ]
    }
   ],
   "source": [
    "nn_model.summary()"
   ]
  },
  {
   "cell_type": "code",
   "execution_count": 18,
   "metadata": {},
   "outputs": [
    {
     "name": "stdout",
     "output_type": "stream",
     "text": [
      "Train on 749 samples\n",
      "Epoch 1/10\n",
      "749/749 [==============================] - 7s 9ms/sample - loss: 495.5365 - accuracy: 0.5247\n",
      "Epoch 2/10\n",
      "749/749 [==============================] - 6s 8ms/sample - loss: 83.1602 - accuracy: 0.5340\n",
      "Epoch 3/10\n",
      "749/749 [==============================] - 6s 8ms/sample - loss: 28.6493 - accuracy: 0.6582\n",
      "Epoch 4/10\n",
      "749/749 [==============================] - 6s 8ms/sample - loss: 16.1774 - accuracy: 0.7049\n",
      "Epoch 5/10\n",
      "749/749 [==============================] - 7s 9ms/sample - loss: 31.1314 - accuracy: 0.6502\n",
      "Epoch 6/10\n",
      "749/749 [==============================] - 6s 8ms/sample - loss: 23.4742 - accuracy: 0.6462\n",
      "Epoch 7/10\n",
      "749/749 [==============================] - 6s 8ms/sample - loss: 11.5750 - accuracy: 0.7383\n",
      "Epoch 8/10\n",
      "749/749 [==============================] - 6s 8ms/sample - loss: 14.0945 - accuracy: 0.7049\n",
      "Epoch 9/10\n",
      "749/749 [==============================] - 6s 8ms/sample - loss: 6.1774 - accuracy: 0.7530\n",
      "Epoch 10/10\n",
      "749/749 [==============================] - 6s 8ms/sample - loss: 3.8820 - accuracy: 0.7904\n"
     ]
    },
    {
     "data": {
      "text/plain": [
       "<tensorflow.python.keras.callbacks.History at 0x2ae8dfed048>"
      ]
     },
     "execution_count": 18,
     "metadata": {},
     "output_type": "execute_result"
    }
   ],
   "source": [
    "nn_model.compile(optimizer='adam', \n",
    "              loss='sparse_categorical_crossentropy', \n",
    "              metrics=['accuracy'])\n",
    "\n",
    "nn_model.fit(x=x_train,y=Y_train, epochs=10)"
   ]
  },
  {
   "cell_type": "code",
   "execution_count": 19,
   "metadata": {},
   "outputs": [
    {
     "data": {
      "text/plain": [
       "array([[0., 1.]], dtype=float32)"
      ]
     },
     "execution_count": 19,
     "metadata": {},
     "output_type": "execute_result"
    }
   ],
   "source": [
    "nn_model.predict(x_train[6].reshape(1, 100, 100, 3, 1).astype(float))"
   ]
  },
  {
   "cell_type": "code",
   "execution_count": null,
   "metadata": {},
   "outputs": [],
   "source": []
  },
  {
   "cell_type": "code",
   "execution_count": null,
   "metadata": {},
   "outputs": [],
   "source": []
  },
  {
   "cell_type": "code",
   "execution_count": null,
   "metadata": {},
   "outputs": [],
   "source": []
  },
  {
   "cell_type": "code",
   "execution_count": null,
   "metadata": {},
   "outputs": [],
   "source": []
  }
 ],
 "metadata": {
  "kernelspec": {
   "display_name": "Python 3",
   "language": "python",
   "name": "python3"
  },
  "language_info": {
   "codemirror_mode": {
    "name": "ipython",
    "version": 3
   },
   "file_extension": ".py",
   "mimetype": "text/x-python",
   "name": "python",
   "nbconvert_exporter": "python",
   "pygments_lexer": "ipython3",
   "version": "3.6.6"
  }
 },
 "nbformat": 4,
 "nbformat_minor": 2
}
